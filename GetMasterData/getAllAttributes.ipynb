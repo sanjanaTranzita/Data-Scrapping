{
 "cells": [
  {
   "cell_type": "code",
   "execution_count": 1,
   "metadata": {},
   "outputs": [],
   "source": [
    "import requests\n",
    "import json\n",
    "from datetime import date"
   ]
  },
  {
   "cell_type": "markdown",
   "metadata": {},
   "source": [
    "## get all attribute"
   ]
  },
  {
   "cell_type": "code",
   "execution_count": 2,
   "metadata": {},
   "outputs": [],
   "source": [
    "\n",
    "\n",
    "url = \"http://127.0.0.1:5001/prod-shopcircuit-seller-portal/asia-south1/api/master-data/getAllAttribute\"\n",
    "token = \"eyJhbGciOiJIUzI1NiIsInR5cCI6IkpXVCJ9.eyJ1c2VyIjp7ImFkZHJlc3MiOiJMdWNraG5vdyIsInJvbGUiOiJBRE1JTiIsIm5hbWUiOiJBZG1pbiIsIm1vYmlsZSI6IjAwMDAwMDAwIiwiYWdyZWVtZW50cyI6dHJ1ZSwiY29tcGFueSI6IkFkbWluIiwiZ3BzIjoiMTIuOTExOTAwLCA3Ny42NDQ2MDAiLCJnc3RpbiI6IkFETUlOIiwiZW1haWwiOiJhZG1pbkB2aWR5YW50LmNvbSIsInN0YXR1cyI6IkFDVElWRSIsImF2YWlsYWJpbHR5Ijp7ImVuYWJsZSI6dHJ1ZSwidGltZXN0YW1wIjoiMjAyMy0wOS0yMlQxMDoxNzozNi4xNzRaIn0sInRhdCI6IlA1RCIsIm9yZGVyX21pbl92YWx1ZSI6NTAwLCJpZCI6IndrdHpxeGQzS285cFB0TjVMYTNxIiwiYXZhdGFyIjoiYXNzZXRzL2ltYWdlcy9hdmF0YXJzL21hbGUtMDcuanBnIn0sImlhdCI6MTcxMjMwODMxMX0.gEbFMSqDT5scvk4ZPS4eMT8WyVplW1LH3e9vTAMUeh4\"\n",
    "payload = {}\n",
    "headers = {\n",
    "     'authorization': f'Bearer {token}',\n",
    "}\n",
    "\n",
    "response = requests.request(\"GET\", url, headers=headers, data=payload)\n",
    "\n",
    "# Check if the request was successful (status code 200)\n",
    "if response.status_code == 200:\n",
    "    # Parse the response text as JSON\n",
    "    json_response = response.json()\n",
    "\n",
    "    # Save the JSON data into a file\n",
    "    with open(f'Attribute-{date.today()}.json', 'w') as json_file:\n",
    "        json.dump(json_response, json_file, indent=4)\n",
    "\n",
    "    print(\"Response saved to response.json\")\n",
    "else:\n",
    "    print(f\"Error: {response.status_code}\\n{response.text}\")\n"
   ]
  },
  {
   "cell_type": "markdown",
   "metadata": {},
   "source": [
    "## create master data"
   ]
  },
  {
   "cell_type": "code",
   "execution_count": 5,
   "metadata": {},
   "outputs": [
    {
     "ename": "FileNotFoundError",
     "evalue": "[Errno 2] No such file or directory: 'catalog-full.json'",
     "output_type": "error",
     "traceback": [
      "\u001b[0;31m---------------------------------------------------------------------------\u001b[0m",
      "\u001b[0;31mFileNotFoundError\u001b[0m                         Traceback (most recent call last)",
      "Cell \u001b[0;32mIn[5], line 2\u001b[0m\n\u001b[1;32m      1\u001b[0m \u001b[38;5;28;01mimport\u001b[39;00m \u001b[38;5;21;01mjson\u001b[39;00m\n\u001b[0;32m----> 2\u001b[0m file\u001b[38;5;241m=\u001b[39m\u001b[38;5;28;43mopen\u001b[39;49m\u001b[43m(\u001b[49m\u001b[38;5;124;43m'\u001b[39;49m\u001b[38;5;124;43mcatalog-full.json\u001b[39;49m\u001b[38;5;124;43m'\u001b[39;49m\u001b[43m)\u001b[49m\n\u001b[1;32m      3\u001b[0m vanijAttribute \u001b[38;5;241m=\u001b[39m \u001b[38;5;28mopen\u001b[39m(\u001b[38;5;124m'\u001b[39m\u001b[38;5;124mAttribute-2024-04-06.json\u001b[39m\u001b[38;5;124m'\u001b[39m, \u001b[38;5;124m'\u001b[39m\u001b[38;5;124mr\u001b[39m\u001b[38;5;124m'\u001b[39m, encoding\u001b[38;5;241m=\u001b[39m\u001b[38;5;124m'\u001b[39m\u001b[38;5;124mutf-8\u001b[39m\u001b[38;5;124m'\u001b[39m)\n\u001b[1;32m      4\u001b[0m catalogdata\u001b[38;5;241m=\u001b[39mjson\u001b[38;5;241m.\u001b[39mload(file)[\u001b[38;5;124m'\u001b[39m\u001b[38;5;124mresult\u001b[39m\u001b[38;5;124m'\u001b[39m]\n",
      "File \u001b[0;32m~/.local/lib/python3.10/site-packages/IPython/core/interactiveshell.py:324\u001b[0m, in \u001b[0;36m_modified_open\u001b[0;34m(file, *args, **kwargs)\u001b[0m\n\u001b[1;32m    317\u001b[0m \u001b[38;5;28;01mif\u001b[39;00m file \u001b[38;5;129;01min\u001b[39;00m {\u001b[38;5;241m0\u001b[39m, \u001b[38;5;241m1\u001b[39m, \u001b[38;5;241m2\u001b[39m}:\n\u001b[1;32m    318\u001b[0m     \u001b[38;5;28;01mraise\u001b[39;00m \u001b[38;5;167;01mValueError\u001b[39;00m(\n\u001b[1;32m    319\u001b[0m         \u001b[38;5;124mf\u001b[39m\u001b[38;5;124m\"\u001b[39m\u001b[38;5;124mIPython won\u001b[39m\u001b[38;5;124m'\u001b[39m\u001b[38;5;124mt let you open fd=\u001b[39m\u001b[38;5;132;01m{\u001b[39;00mfile\u001b[38;5;132;01m}\u001b[39;00m\u001b[38;5;124m by default \u001b[39m\u001b[38;5;124m\"\u001b[39m\n\u001b[1;32m    320\u001b[0m         \u001b[38;5;124m\"\u001b[39m\u001b[38;5;124mas it is likely to crash IPython. If you know what you are doing, \u001b[39m\u001b[38;5;124m\"\u001b[39m\n\u001b[1;32m    321\u001b[0m         \u001b[38;5;124m\"\u001b[39m\u001b[38;5;124myou can use builtins\u001b[39m\u001b[38;5;124m'\u001b[39m\u001b[38;5;124m open.\u001b[39m\u001b[38;5;124m\"\u001b[39m\n\u001b[1;32m    322\u001b[0m     )\n\u001b[0;32m--> 324\u001b[0m \u001b[38;5;28;01mreturn\u001b[39;00m \u001b[43mio_open\u001b[49m\u001b[43m(\u001b[49m\u001b[43mfile\u001b[49m\u001b[43m,\u001b[49m\u001b[43m \u001b[49m\u001b[38;5;241;43m*\u001b[39;49m\u001b[43margs\u001b[49m\u001b[43m,\u001b[49m\u001b[43m \u001b[49m\u001b[38;5;241;43m*\u001b[39;49m\u001b[38;5;241;43m*\u001b[39;49m\u001b[43mkwargs\u001b[49m\u001b[43m)\u001b[49m\n",
      "\u001b[0;31mFileNotFoundError\u001b[0m: [Errno 2] No such file or directory: 'catalog-full.json'"
     ]
    }
   ],
   "source": [
    "import json\n",
    "file=open('catalog-full.json')\n",
    "vanijAttribute = open('Attribute-2024-04-06.json', 'r', encoding='utf-8')\n",
    "catalogdata=json.load(file)['result']\n",
    "vanijAttributeData = json.load(vanijAttribute)['data']\n",
    "masterData=[]\n",
    "def extractData(id):\n",
    "    filtered_data = [item for item in vanijAttributeData if item['data']['sub_sub_category_id'] == id]\n",
    "    extracted_data = [{\"name\": item['data']['name'], \"values\": item['data']['values']} for item in filtered_data]\n",
    "    converted_data=[{item['name']:item['values']} for item in extracted_data]\n",
    "    return converted_data\n",
    "i=0\n",
    "for catalog in catalogdata:\n",
    "    catalog[\"attribute\"]=extractData(catalog['sub_sub_category_id'])\n",
    "    i+=1\n",
    "    print(\"catalog done: \",i+1)\n",
    "\n",
    "with open(f\"catalogs_with_attribute{date.today()}.json\", \"w\") as json_file:\n",
    "    json.dump({'data':catalogdata}, json_file, indent=4)\n"
   ]
  },
  {
   "cell_type": "code",
   "execution_count": null,
   "metadata": {},
   "outputs": [],
   "source": []
  }
 ],
 "metadata": {
  "kernelspec": {
   "display_name": "Python 3",
   "language": "python",
   "name": "python3"
  },
  "language_info": {
   "codemirror_mode": {
    "name": "ipython",
    "version": 3
   },
   "file_extension": ".py",
   "mimetype": "text/x-python",
   "name": "python",
   "nbconvert_exporter": "python",
   "pygments_lexer": "ipython3",
   "version": "3.10.12"
  }
 },
 "nbformat": 4,
 "nbformat_minor": 2
}
